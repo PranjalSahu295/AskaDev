{
 "cells": [
  {
   "cell_type": "code",
   "execution_count": null,
   "metadata": {
    "gradient": {
     "editing": false
    }
   },
   "outputs": [
    {
     "name": "stdout",
     "output_type": "stream",
     "text": [
      "Collecting bs4\n",
      "  Downloading bs4-0.0.1.tar.gz (1.1 kB)\n",
      "Collecting beautifulsoup4\n",
      "  Downloading beautifulsoup4-4.10.0-py3-none-any.whl (97 kB)\n",
      "\u001b[K     |████████████████████████████████| 97 kB 5.5 MB/s  eta 0:00:01\n",
      "\u001b[?25hCollecting soupsieve>1.2\n",
      "  Downloading soupsieve-2.2.1-py3-none-any.whl (33 kB)\n",
      "Building wheels for collected packages: bs4\n",
      "  Building wheel for bs4 (setup.py) ... \u001b[?25ldone\n",
      "\u001b[?25h  Created wheel for bs4: filename=bs4-0.0.1-py3-none-any.whl size=1273 sha256=22a4c5336ec6f262466cf483efe91063d3cd31b74d24a3ee1de47007d0df0a3c\n",
      "  Stored in directory: /root/.cache/pip/wheels/19/f5/6d/a97dd4f22376d4472d5f4c76c7646876052ff3166b3cf71050\n",
      "Successfully built bs4\n",
      "Installing collected packages: soupsieve, beautifulsoup4, bs4\n",
      "Successfully installed beautifulsoup4-4.10.0 bs4-0.0.1 soupsieve-2.2.1\n",
      "\u001b[33mWARNING: You are using pip version 20.2.4; however, version 21.3 is available.\n",
      "You should consider upgrading via the '/usr/bin/python3 -m pip install --upgrade pip' command.\u001b[0m\n"
     ]
    }
   ],
   "source": [
    "!pip install bs4"
   ]
  },
  {
   "cell_type": "code",
   "execution_count": null,
   "metadata": {
    "gradient": {
     "editing": false
    },
    "id": "h8F_BALYEYlm"
   },
   "outputs": [],
   "source": [
    "# import beautifulsoup4\n",
    "import requests\n",
    "from bs4 import BeautifulSoup\n",
    "import re\n",
    "import json\n",
    "from IPython.display import clear_output\n",
    "# get json from url\n",
    "\n",
    "\n",
    "X = \"https://dev.to/search/feed_content?per_page=100&page=\"\n",
    "Y = \"&sort_by=hotness_score&sort_direction=desc&approved=&class_name=Article\""
   ]
  },
  {
   "cell_type": "code",
   "execution_count": null,
   "metadata": {
    "gradient": {
     "editing": false
    },
    "id": "Gt15s3vaEZt7"
   },
   "outputs": [],
   "source": [
    "import time"
   ]
  },
  {
   "cell_type": "code",
   "execution_count": null,
   "metadata": {
    "colab": {
     "background_save": true,
     "base_uri": "https://localhost:8080/"
    },
    "gradient": {
     "editing": false
    },
    "id": "9GIAuJSPEJtk",
    "outputId": "ab1daa55-2090-48ba-d0b3-940d82337488"
   },
   "outputs": [
    {
     "name": "stdout",
     "output_type": "stream",
     "text": [
      "18090/1000000\n",
      "pr : 0.01809\n",
      "time taken :- 176.71142315864563\n",
      "/ambitiont109/how-to-reduce-running-time-with-multi-threading-3nm\n"
     ]
    }
   ],
   "source": [
    "n = int(input(\"enter how many itrations?? 1 page = 100 blog links \"))\n",
    "start = time.time()\n",
    "with open('links.txt', 'w') as f:\n",
    "  for j in range(0,n+1):\n",
    "          url = X + str(j) + Y\n",
    "          r = requests.get(url)\n",
    "          data = r.json()\n",
    "\n",
    "          list1 = data['result']\n",
    "          # convert list1[0] to dict\n",
    "          for i in range(0,100):\n",
    "              list2 = list1[i]\n",
    "              # convert list2 to dict\n",
    "              list3 = dict(list2)\n",
    "              \n",
    "              print(list3[\"path\"])\n",
    "              #/wparad/can-t-connect-to-service-running-in-ec2-1280/'\n",
    "              link = \"https://dev.to\"+str(list3[\"path\"])\n",
    "              f.write(\"{}\\n\".format(link))\n",
    "              clear_output(wait=True)\n",
    "              print(str(i*j)+'/'+str(n*100))\n",
    "              print(\"pr :\", (i*j)/(n*100))\n",
    "              print(\"time taken :-\",time.time()-start)\n",
    "              \n",
    "  #print(str(j)+'/'+str(n))\n",
    "  #print(time.time()-start)"
   ]
  },
  {
   "cell_type": "code",
   "execution_count": null,
   "metadata": {
    "colab": {
     "base_uri": "https://localhost:8080/",
     "height": 0
    },
    "gradient": {
     "editing": false
    },
    "id": "qnOKOiK1Xd1I",
    "outputId": "6ecb54d2-37e6-42b9-b02b-e297dd3f5fdf"
   },
   "outputs": [
    {
     "name": "stdout",
     "output_type": "stream",
     "text": [
      " Untitled.ipynb         advanced.ipynb\t links.txt\r\n",
      "'Untitled5 (1).ipynb'   beginner.ipynb\r\n"
     ]
    }
   ],
   "source": [
    "!ls"
   ]
  },
  {
   "cell_type": "code",
   "execution_count": null,
   "metadata": {
    "gradient": {
     "editing": false
    },
    "id": "PbWd8hZyEXwW"
   },
   "outputs": [],
   "source": []
  }
 ],
 "metadata": {
  "colab": {
   "collapsed_sections": [],
   "name": "Untitled5.ipynb",
   "provenance": []
  },
  "kernelspec": {
   "display_name": "Python 3",
   "language": "python",
   "name": "python3"
  },
  "language_info": {
   "codemirror_mode": {
    "name": "ipython",
    "version": 3
   },
   "file_extension": ".py",
   "mimetype": "text/x-python",
   "name": "python",
   "nbconvert_exporter": "python",
   "pygments_lexer": "ipython3",
   "version": "3.6.9"
  }
 },
 "nbformat": 4,
 "nbformat_minor": 1
}
